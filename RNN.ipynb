{
  "nbformat": 4,
  "nbformat_minor": 0,
  "metadata": {
    "colab": {
      "name": "RNN.ipynb",
      "version": "0.3.2",
      "provenance": [],
      "collapsed_sections": [],
      "include_colab_link": true
    },
    "kernelspec": {
      "name": "python3",
      "display_name": "Python 3"
    }
  },
  "cells": [
    {
      "cell_type": "markdown",
      "metadata": {
        "id": "view-in-github",
        "colab_type": "text"
      },
      "source": [
        "<a href=\"https://colab.research.google.com/github/ramneekkaur/Deep_Learning/blob/master/RNN.ipynb\" target=\"_parent\"><img src=\"https://colab.research.google.com/assets/colab-badge.svg\" alt=\"Open In Colab\"/></a>"
      ]
    },
    {
      "cell_type": "code",
      "metadata": {
        "id": "K0duoys_aE1E",
        "colab_type": "code",
        "colab": {}
      },
      "source": [
        "import torch\n",
        "from torch import nn\n",
        "import numpy as np"
      ],
      "execution_count": 0,
      "outputs": []
    },
    {
      "cell_type": "code",
      "metadata": {
        "id": "xVFheSxMbV0e",
        "colab_type": "code",
        "colab": {}
      },
      "source": [
        "text=['hey how are you','i am fine','good i m great','we can meet','great sure']\n",
        "chars=set(''.join(text))\n",
        "\n",
        "int2char=dict(enumerate(chars))\n",
        "\n",
        "char2int={char:ind for ind, char in int2char.items()}"
      ],
      "execution_count": 0,
      "outputs": []
    },
    {
      "cell_type": "code",
      "metadata": {
        "id": "021y2ZQ-cief",
        "colab_type": "code",
        "outputId": "accaa763-a85a-4509-a08e-adc6bea2081a",
        "colab": {
          "base_uri": "https://localhost:8080/",
          "height": 34
        }
      },
      "source": [
        "print(int2char)"
      ],
      "execution_count": 0,
      "outputs": [
        {
          "output_type": "stream",
          "text": [
            "{0: ' ', 1: 'g', 2: 'u', 3: 'e', 4: 'w', 5: 'r', 6: 'm', 7: 'c', 8: 's', 9: 'a', 10: 'd', 11: 'n', 12: 't', 13: 'y', 14: 'f', 15: 'h', 16: 'o', 17: 'i'}\n"
          ],
          "name": "stdout"
        }
      ]
    },
    {
      "cell_type": "code",
      "metadata": {
        "id": "ToHkTjN0cw8-",
        "colab_type": "code",
        "outputId": "ca6fb413-f797-4f1b-c77c-db1d35dd6849",
        "colab": {
          "base_uri": "https://localhost:8080/",
          "height": 34
        }
      },
      "source": [
        "print(char2int)"
      ],
      "execution_count": 0,
      "outputs": [
        {
          "output_type": "stream",
          "text": [
            "{' ': 0, 'g': 1, 'u': 2, 'e': 3, 'w': 4, 'r': 5, 'm': 6, 'c': 7, 's': 8, 'a': 9, 'd': 10, 'n': 11, 't': 12, 'y': 13, 'f': 14, 'h': 15, 'o': 16, 'i': 17}\n"
          ],
          "name": "stdout"
        }
      ]
    },
    {
      "cell_type": "code",
      "metadata": {
        "id": "HocmTLPidI3z",
        "colab_type": "code",
        "colab": {}
      },
      "source": [
        "maxlen=len(max(text,key=len))\n",
        "\n",
        "for i in range(len(text)):\n",
        "  while len(text[i])<maxlen:\n",
        "    text[i] += ' '"
      ],
      "execution_count": 0,
      "outputs": []
    },
    {
      "cell_type": "code",
      "metadata": {
        "id": "p8nOAx6DdoAB",
        "colab_type": "code",
        "outputId": "f477b493-4d1f-4fa8-da02-adbf2c05b482",
        "colab": {
          "base_uri": "https://localhost:8080/",
          "height": 187
        }
      },
      "source": [
        "input_seq=[]\n",
        "target_seq=[]\n",
        "\n",
        "for i in range(len(text)):\n",
        "  \n",
        "  input_seq.append(text[i][:-1])\n",
        "  \n",
        "  target_seq.append(text[i][1:])\n",
        "  print(\"Input Sequence:{}\\n Target sequence: {}\".format(input_seq[i],target_seq[i]))"
      ],
      "execution_count": 0,
      "outputs": [
        {
          "output_type": "stream",
          "text": [
            "Input Sequence:hey how are yo\n",
            " Target sequence: ey how are you\n",
            "Input Sequence:i am fine     \n",
            " Target sequence:  am fine      \n",
            "Input Sequence:good i m great\n",
            " Target sequence: ood i m great \n",
            "Input Sequence:we can meet   \n",
            " Target sequence: e can meet    \n",
            "Input Sequence:great sure    \n",
            " Target sequence: reat sure     \n"
          ],
          "name": "stdout"
        }
      ]
    },
    {
      "cell_type": "code",
      "metadata": {
        "id": "mdlPztFBgLVI",
        "colab_type": "code",
        "colab": {}
      },
      "source": [
        "for i in range(len(text)):\n",
        "  input_seq[i] = [char2int[character] for character in input_seq[i]]\n",
        "  target_seq[i]= [char2int[character] for character in target_seq[i]]"
      ],
      "execution_count": 0,
      "outputs": []
    },
    {
      "cell_type": "code",
      "metadata": {
        "id": "-DOxmF7mg8Wg",
        "colab_type": "code",
        "colab": {}
      },
      "source": [
        "dict_size= len(char2int)\n",
        "seq_len=maxlen-1\n",
        "batch_size=len(text)\n",
        "\n",
        "def one_hot_encode(sequence,dict_size, seq_len, batch_size):\n",
        "  features=np.zeros((batch_size, seq_len, dict_size), dtype=np.float32)\n",
        "  \n",
        "  \n",
        "  for i in range(batch_size):\n",
        "    for u in range(seq_len):\n",
        "      features[i, u, sequence[i][u]]=1\n",
        "  return features"
      ],
      "execution_count": 0,
      "outputs": []
    },
    {
      "cell_type": "code",
      "metadata": {
        "id": "w-gGlQbBiGxe",
        "colab_type": "code",
        "colab": {}
      },
      "source": [
        "input_seq = one_hot_encode(input_seq, dict_size, seq_len, batch_size)"
      ],
      "execution_count": 0,
      "outputs": []
    },
    {
      "cell_type": "code",
      "metadata": {
        "id": "nfCI5sv_i7yc",
        "colab_type": "code",
        "colab": {}
      },
      "source": [
        "input_seq=torch.from_numpy(input_seq)\n",
        "target_seq=torch.Tensor(target_seq)"
      ],
      "execution_count": 0,
      "outputs": []
    },
    {
      "cell_type": "code",
      "metadata": {
        "id": "4l76jz1CjsCx",
        "colab_type": "code",
        "outputId": "47fe718a-318a-4166-f976-fa59f90bc5e9",
        "colab": {
          "base_uri": "https://localhost:8080/",
          "height": 34
        }
      },
      "source": [
        "is_cuda = torch.cuda.is_available()\n",
        "\n",
        "if is_cuda:\n",
        "    device = torch.device(\"cuda\")\n",
        "    print(\"GPU is available\")\n",
        "else:\n",
        "    device = torch.device(\"cpu\")\n",
        "    print(\"GPU not available, CPU used\")"
      ],
      "execution_count": 0,
      "outputs": [
        {
          "output_type": "stream",
          "text": [
            "GPU not available, CPU used\n"
          ],
          "name": "stdout"
        }
      ]
    },
    {
      "cell_type": "code",
      "metadata": {
        "id": "JZh9cPQZlXbP",
        "colab_type": "code",
        "colab": {}
      },
      "source": [
        "class Model(nn.Module):\n",
        "    def __init__(self, input_size, output_size, hidden_dim, n_layers):\n",
        "        super(Model, self).__init__()\n",
        "\n",
        "        # Defining some parameters\n",
        "        self.hidden_dim = hidden_dim\n",
        "        self.n_layers = n_layers\n",
        "\n",
        "        #Defining the layers\n",
        "        # RNN Layer\n",
        "        self.rnn = nn.RNN(input_size, hidden_dim, n_layers, batch_first=True)   \n",
        "        # Fully connected layer\n",
        "        self.fc = nn.Linear(hidden_dim, output_size)\n",
        "    \n",
        "    def forward(self, x):\n",
        "        \n",
        "        batch_size = x.size(0)\n",
        "\n",
        "        # Initializing hidden state for first input using method defined below\n",
        "        hidden = self.init_hidden(batch_size)\n",
        "\n",
        "        # Passing in the input and hidden state into the model and obtaining outputs\n",
        "        out, hidden = self.rnn(x, hidden)\n",
        "        \n",
        "        # Reshaping the outputs such that it can be fit into the fully connected layer\n",
        "        out = out.contiguous().view(-1, self.hidden_dim)\n",
        "        out = self.fc(out)\n",
        "        \n",
        "        return out, hidden\n",
        "    \n",
        "    def init_hidden(self, batch_size):\n",
        "        # This method generates the first hidden state of zeros which we'll use in the forward pass\n",
        "        # We'll send the tensor holding the hidden state to the device we specified earlier as well\n",
        "        hidden = torch.zeros(self.n_layers, batch_size, self.hidden_dim)\n",
        "        return hidden"
      ],
      "execution_count": 0,
      "outputs": []
    },
    {
      "cell_type": "code",
      "metadata": {
        "id": "qQ8IePl6OMlL",
        "colab_type": "code",
        "outputId": "b26e5386-f653-4b5c-f083-bfa984dff657",
        "colab": {
          "base_uri": "https://localhost:8080/",
          "height": 85
        }
      },
      "source": [
        "# Instantiate the model with hyperparameters\n",
        "model = Model(input_size=dict_size, output_size=dict_size, hidden_dim=12, n_layers=1)\n",
        "# We'll also set the model to the device that we defined earlier (default is CPU)\n",
        "model.to(device)\n",
        "\n",
        "print (model)\n",
        "# Define hyperparameters\n",
        "n_epochs = 100\n",
        "lr=0.01\n",
        "\n",
        "# Define Loss, Optimizer\n",
        "criterion = nn.CrossEntropyLoss()\n",
        "optimizer = torch.optim.Adam(model.parameters(), lr=lr)"
      ],
      "execution_count": 0,
      "outputs": [
        {
          "output_type": "stream",
          "text": [
            "Model(\n",
            "  (rnn): RNN(18, 12, batch_first=True)\n",
            "  (fc): Linear(in_features=12, out_features=18, bias=True)\n",
            ")\n"
          ],
          "name": "stdout"
        }
      ]
    },
    {
      "cell_type": "code",
      "metadata": {
        "id": "zS_LrRKsRWkj",
        "colab_type": "code",
        "outputId": "38b72eca-5113-4d76-aaeb-17a7cfafd7e6",
        "colab": {
          "base_uri": "https://localhost:8080/",
          "height": 187
        }
      },
      "source": [
        "# Training Run\n",
        "for epoch in range(1, n_epochs + 1):\n",
        "    optimizer.zero_grad() # Clears existing gradients from previous epoch\n",
        "    input_seq.to(device)\n",
        "    output, hidden = model(input_seq)\n",
        "    loss = criterion(output, target_seq.view(-1).long())\n",
        "    loss.backward() # Does backpropagation and calculates gradients\n",
        "    optimizer.step() # Updates the weights accordingly\n",
        "    \n",
        "    if epoch%10 == 0:\n",
        "        print('Epoch: {}/{}.............'.format(epoch, n_epochs), end=' ')\n",
        "        print(\"Loss: {:.4f}\".format(loss.item()))"
      ],
      "execution_count": 0,
      "outputs": [
        {
          "output_type": "stream",
          "text": [
            "Epoch: 10/100............. Loss: 2.3103\n",
            "Epoch: 20/100............. Loss: 2.1319\n",
            "Epoch: 30/100............. Loss: 1.9160\n",
            "Epoch: 40/100............. Loss: 1.6363\n",
            "Epoch: 50/100............. Loss: 1.3338\n",
            "Epoch: 60/100............. Loss: 1.0600\n",
            "Epoch: 70/100............. Loss: 0.8028\n",
            "Epoch: 80/100............. Loss: 0.5856\n",
            "Epoch: 90/100............. Loss: 0.4305\n",
            "Epoch: 100/100............. Loss: 0.3263\n"
          ],
          "name": "stdout"
        }
      ]
    },
    {
      "cell_type": "code",
      "metadata": {
        "id": "OiQysetrRfS3",
        "colab_type": "code",
        "colab": {}
      },
      "source": [
        "# This function takes in the model and character as arguments and returns the next character prediction and hidden state\n",
        "def predict(model, character):\n",
        "    # One-hot encoding our input to fit into the model\n",
        "    character = np.array([[char2int[c] for c in character]])\n",
        "    character = one_hot_encode(character, dict_size, character.shape[1], 1)\n",
        "    character = torch.from_numpy(character)\n",
        "    character.to(device)\n",
        "    \n",
        "    out, hidden = model(character)\n",
        "\n",
        "    prob = nn.functional.softmax(out[-1], dim=0).data\n",
        "    # Taking the class with the highest probability score from the output\n",
        "    char_ind = torch.max(prob, dim=0)[1].item()\n",
        "\n",
        "    return int2char[char_ind], hidden"
      ],
      "execution_count": 0,
      "outputs": []
    },
    {
      "cell_type": "code",
      "metadata": {
        "id": "0bBtpTjgRolI",
        "colab_type": "code",
        "colab": {}
      },
      "source": [
        "# This function takes the desired output length and input characters as arguments, returning the produced sentence\n",
        "def sample(model, out_len, start='hey'):\n",
        "    model.eval() # eval mode\n",
        "    start = start.lower()\n",
        "    # First off, run through the starting characters\n",
        "    chars = [ch for ch in start]\n",
        "    size = out_len - len(chars)\n",
        "    # Now pass in the previous characters and get a new one\n",
        "    for ii in range(size):\n",
        "        char, h = predict(model, chars)\n",
        "        chars.append(char)\n",
        "\n",
        "    return ''.join(chars)"
      ],
      "execution_count": 0,
      "outputs": []
    },
    {
      "cell_type": "code",
      "metadata": {
        "id": "xGOksN9cRs_C",
        "colab_type": "code",
        "outputId": "be93c1dd-0a6d-4afd-edf4-218d71f0c413",
        "colab": {
          "base_uri": "https://localhost:8080/",
          "height": 34
        }
      },
      "source": [
        "sample(model,15, 'hey')"
      ],
      "execution_count": 0,
      "outputs": [
        {
          "output_type": "execute_result",
          "data": {
            "text/plain": [
              "'hey how are you'"
            ]
          },
          "metadata": {
            "tags": []
          },
          "execution_count": 20
        }
      ]
    }
  ]
}